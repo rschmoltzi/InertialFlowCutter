{
 "cells": [
  {
   "cell_type": "code",
   "execution_count": 3,
   "metadata": {},
   "outputs": [],
   "source": [
    "import networkit as nk\n",
    "import affinity_order\n",
    "import config\n",
    "from anytree import RenderTree, PreOrderIter\n",
    "import random"
   ]
  },
  {
   "cell_type": "code",
   "execution_count": 4,
   "metadata": {},
   "outputs": [],
   "source": [
    "amount_orders = 3\n",
    "g = affinity_order.load_graph(config.GRAPH_DIR + \"uk.graph\") #cti"
   ]
  },
  {
   "cell_type": "code",
   "execution_count": 5,
   "metadata": {},
   "outputs": [],
   "source": [
    "def inverse_ordering(ordering):\n",
    "    '''\n",
    "    Inverses the ordering from ordering[pos] == node to ordering[node] == pos.\n",
    "    '''\n",
    "    ret = [0] * len(ordering)\n",
    "    for i in range(len(ordering)):\n",
    "        ret[ordering[i]] = i\n",
    "        \n",
    "    return ret"
   ]
  },
  {
   "cell_type": "code",
   "execution_count": 9,
   "metadata": {},
   "outputs": [],
   "source": [
    "def export_initial_assim(g, ratio_assim, amount_orders):\n",
    "    client = nk.gephi.streaming.GephiStreamingClient(url='http://localhost:8080/workspace1')\n",
    "    #client.exportGraph(g)\n",
    "    for rep, alg in affinity_order.ORD_ALG.items():\n",
    "        print(rep)\n",
    "        orderings = alg(g, amount_orders)\n",
    "        for i in range(len(orderings)):\n",
    "            print(\"i\", i)\n",
    "            client.exportNodeValues(g, color_by_ordering(g, orderings[i], ratio_assim), rep + \"_coloring\" + str(i))"
   ]
  },
  {
   "cell_type": "code",
   "execution_count": 9,
   "metadata": {},
   "outputs": [],
   "source": [
    "def export_clusters(g, amount_orders):\n",
    "    client = nk.gephi.streaming.GephiStreamingClient(url='http://localhost:8080/workspace1')\n",
    "    root = affinity_order.affinity_tree(g)\n",
    "    \n",
    "    level = [x for node in root.children for x in node.children]\n",
    "    \n",
    "    nodes = dict()\n",
    "    for cluster in level:\n",
    "        nodes[cluster] = set([node_id for node in PreOrderIter(cluster) if node.is_leaf for node_id in node.old_ids])\n",
    "    \n",
    "    cluster_color = [0] * nk.graphtools.size(g)[0]\n",
    "    for i in range(len(level)):\n",
    "        for node in nodes[level[i]]:\n",
    "            cluster_color[node] = i\n",
    "    \n",
    "    client.exportNodeValues(g, cluster_color, \"aff_l2_clusters\")\n",
    "    \n",
    "    "
   ]
  },
  {
   "cell_type": "code",
   "execution_count": 7,
   "metadata": {},
   "outputs": [],
   "source": [
    "def export_dfs_ordering(g, coefficients): #changed to export the mappped algebraic distances\n",
    "    client = nk.gephi.streaming.GephiStreamingClient(url='http://localhost:8080/workspace1')\n",
    "    #root = affinity_order.affinity_tree(g)\n",
    "    #random.seed(31415)\n",
    "    dist = nk.distance.AlgebraicDistance(g)\n",
    "    dist.preprocess()\n",
    "    \n",
    "    client.exportNodeValues(g, inverse_ordering(sort_nodes(map_to_line(dist.getLoads(), coefficients))), \"alg-dist\")"
   ]
  },
  {
   "cell_type": "code",
   "execution_count": 13,
   "metadata": {
    "scrolled": true
   },
   "outputs": [],
   "source": [
    "coefficients = [1]*10\n",
    "export_dfs_ordering(g, coefficients)"
   ]
  },
  {
   "cell_type": "code",
   "execution_count": 11,
   "metadata": {},
   "outputs": [],
   "source": [
    "def export_orderings(g, amount_orderings):\n",
    "    client = nk.gephi.streaming.GephiStreamingClient(url=\"http://localhost:8080/workspace1\")\n",
    "    # client.exportGraph(g)\n",
    "    for rep, alg in affinity_order.ORD_ALG.items():\n",
    "        orderings = alg(g, amount_orders)\n",
    "        for i in range(len(orderings)):\n",
    "            client.exportNodeValues(g, inverse_ordering(orderings[i]), rep + \"_ordering\" + str(i))"
   ]
  },
  {
   "cell_type": "code",
   "execution_count": 11,
   "metadata": {},
   "outputs": [],
   "source": [
    "def color_by_ordering(g, ordering, ratio_of_side):\n",
    "    ret = [0] * g.numberOfNodes()\n",
    "    for i in range(int(ratio_of_side * g.numberOfNodes())):\n",
    "        ret[ordering[i]] = 1\n",
    "        ret[ordering[-(i+1)]] = 2\n",
    "    \n",
    "    return ret"
   ]
  },
  {
   "cell_type": "code",
   "execution_count": 18,
   "metadata": {
    "scrolled": true
   },
   "outputs": [],
   "source": [
    "export_orderings(g, amount_orders)"
   ]
  },
  {
   "cell_type": "code",
   "execution_count": 1,
   "metadata": {},
   "outputs": [],
   "source": [
    "def sort_nodes(weights):\n",
    "    '''\n",
    "    Sorts nodes according to their supplied weights.\n",
    "    Input: List of weights. weights[n] == w means node n has weight w.\n",
    "    Output: List of sorted nodes. ret[p] == n means node n has position p in the ordering.\n",
    "    '''\n",
    "    \n",
    "    return [n for w, n in sorted(zip(weights, range(len(weights))))]"
   ]
  },
  {
   "cell_type": "code",
   "execution_count": 2,
   "metadata": {},
   "outputs": [],
   "source": [
    "def map_to_line(points, coefficients):\n",
    "    '''\n",
    "    Maps points to a line. The amount of dimensions is implicitly given by the length of coefficients.\n",
    "    Points is a list where [i:i+len(coefficients)] are the coordinates of the point i.\n",
    "    '''\n",
    "    \n",
    "    res = list()\n",
    "    for i in range(0, len(points), len(coefficients)):\n",
    "        res.append(sum(p*c for p, c in zip(points[i:i+len(coefficients)], coefficients)))\n",
    "    return res"
   ]
  },
  {
   "cell_type": "code",
   "execution_count": 9,
   "metadata": {},
   "outputs": [
    {
     "data": {
      "text/plain": [
       "[1, 0, 0, 0, 0, 0, 0, 0, 0, 0]"
      ]
     },
     "execution_count": 9,
     "metadata": {},
     "output_type": "execute_result"
    }
   ],
   "source": [
    "[1] + [0]*9"
   ]
  },
  {
   "cell_type": "code",
   "execution_count": null,
   "metadata": {},
   "outputs": [],
   "source": []
  }
 ],
 "metadata": {
  "kernelspec": {
   "display_name": "Python 3",
   "language": "python",
   "name": "python3"
  },
  "language_info": {
   "codemirror_mode": {
    "name": "ipython",
    "version": 3
   },
   "file_extension": ".py",
   "mimetype": "text/x-python",
   "name": "python",
   "nbconvert_exporter": "python",
   "pygments_lexer": "ipython3",
   "version": "3.8.0"
  }
 },
 "nbformat": 4,
 "nbformat_minor": 4
}
